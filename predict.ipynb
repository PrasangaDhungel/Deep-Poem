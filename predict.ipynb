{
  "nbformat": 4,
  "nbformat_minor": 0,
  "metadata": {
    "colab": {
      "name": "predict.ipynb",
      "version": "0.3.2",
      "provenance": [],
      "include_colab_link": true
    },
    "kernelspec": {
      "name": "python3",
      "display_name": "Python 3"
    },
    "accelerator": "GPU"
  },
  "cells": [
    {
      "cell_type": "markdown",
      "metadata": {
        "id": "view-in-github",
        "colab_type": "text"
      },
      "source": [
        "<a href=\"https://colab.research.google.com/gist/PrasangaDhungel/d2b0d2ab801dfb41d53071dd3093e313/predict.ipynb\" target=\"_parent\"><img src=\"https://colab.research.google.com/assets/colab-badge.svg\" alt=\"Open In Colab\"/></a>"
      ]
    },
    {
      "cell_type": "code",
      "metadata": {
        "id": "ocBUKKaZhcCi",
        "colab_type": "code",
        "colab": {}
      },
      "source": [
        "from __future__ import absolute_import, division, print_function, unicode_literals\n",
        "import tensorflow as tf\n",
        "import os\n",
        "import time\n",
        "tf.enable_eager_execution()\n",
        "\n",
        "import numpy as np"
      ],
      "execution_count": 0,
      "outputs": []
    },
    {
      "cell_type": "code",
      "metadata": {
        "id": "JCNdJcTfiBlH",
        "colab_type": "code",
        "colab": {}
      },
      "source": [
        "def generate_text(char2idx,idx2char,model, start_string, temperature=1, num_generate=1000):\n",
        "  \"\"\"\n",
        "  Generates Poem from given sequence of characters\n",
        "  Arguments:\n",
        "  model = learned tf.keras model\n",
        "  start_string = sequence of characters to start the prediction\n",
        "  temperature = index of predictable text Low temperatures results in more predictable text\n",
        "                Higher temperatures results in more surprising text, find out suitable one\n",
        "  num_generate = Number of characters to generate\n",
        "  Returns:\n",
        "  Generated poem (input + genetated)\n",
        "  \"\"\"\n",
        "  # Converting our start string to numbers (vectorizing)\n",
        "  num_generate = 1000\n",
        "  input_eval = [char2idx[s] for s in start_string]\n",
        "  input_eval = tf.expand_dims(input_eval, 0)\n",
        "\n",
        "  # Empty string to store result\n",
        "  text_generated = []\n",
        "\n",
        "  # Here batch size == 1\n",
        "  model.reset_states()\n",
        "  for i in range(num_generate):\n",
        "      predictions = model(input_eval)\n",
        "      # remove the batch dimension\n",
        "      predictions = tf.squeeze(predictions, 0)\n",
        "\n",
        "      predictions = predictions / temperature\n",
        "      # using a multinomial distribution to predict the word returned by the model\n",
        "      predicted_id = tf.multinomial(predictions, num_samples=1)[-1,0].numpy()\n",
        "      \n",
        "      # pass the predicted word as the next input to the model\n",
        "      # along with the previous hidden state\n",
        "      input_eval = tf.expand_dims([predicted_id], 0)\n",
        "      text_generated.append(idx2char[predicted_id])\n",
        "\n",
        "  return (start_string + ''.join(text_generated))\n"
      ],
      "execution_count": 0,
      "outputs": []
    },
    {
      "cell_type": "code",
      "metadata": {
        "id": "l9d8zuOJiCQg",
        "colab_type": "code",
        "colab": {}
      },
      "source": [
        "if tf.test.is_gpu_available():\n",
        "  rnn = tf.keras.layers.CuDNNGRU\n",
        "else:\n",
        "  import functools\n",
        "  rnn = functools.partial(\n",
        "    tf.keras.layers.GRU, recurrent_activation='sigmoid')\n"
      ],
      "execution_count": 0,
      "outputs": []
    },
    {
      "cell_type": "code",
      "metadata": {
        "id": "NqikzaTCiHO3",
        "colab_type": "code",
        "colab": {}
      },
      "source": [
        "embedding_dim = 256\n",
        "rnn_units = 1024\n"
      ],
      "execution_count": 0,
      "outputs": []
    },
    {
      "cell_type": "code",
      "metadata": {
        "id": "sqtqi2tpiJPv",
        "colab_type": "code",
        "outputId": "4f673d0f-5d86-4dbc-b12a-bb819a56271f",
        "colab": {
          "base_uri": "https://localhost:8080/",
          "height": 35
        }
      },
      "source": [
        "text = open(\"poems.txt\", 'rb').read().decode(encoding='utf-8')\n",
        "vocab = sorted(set(text))\n",
        "vocab_size = len(vocab)\n",
        "print(vocab_size)\n",
        "char2idx = {u:i for i, u in enumerate(vocab)}\n",
        "idx2char = np.array(vocab)\n"
      ],
      "execution_count": 5,
      "outputs": [
        {
          "output_type": "stream",
          "text": [
            "71\n"
          ],
          "name": "stdout"
        }
      ]
    },
    {
      "cell_type": "code",
      "metadata": {
        "id": "oq12ji0eiLnj",
        "colab_type": "code",
        "outputId": "09c5e55d-ef8b-43c6-fc52-2bb38913fdd8",
        "colab": {
          "base_uri": "https://localhost:8080/",
          "height": 73
        }
      },
      "source": [
        "model = tf.keras.models.load_model(\"laxmiprasad.h5\")\n",
        "model.build(tf.TensorShape([1, None]))"
      ],
      "execution_count": 6,
      "outputs": [
        {
          "output_type": "stream",
          "text": [
            "WARNING: Logging before flag parsing goes to stderr.\n",
            "W0614 14:04:16.310718 140090806966144 hdf5_format.py:221] No training configuration found in save file: the model was *not* compiled. Compile it manually.\n"
          ],
          "name": "stderr"
        }
      ]
    },
    {
      "cell_type": "code",
      "metadata": {
        "id": "1g3c5fqOiNiW",
        "colab_type": "code",
        "colab": {
          "base_uri": "https://localhost:8080/",
          "height": 973
        },
        "outputId": "912f4570-83bd-43a5-c550-ababeb8afbe2"
      },
      "source": [
        "str = input('Enter Starting Sequence of word: ')\n",
        "print(generate_text(char2idx,idx2char,model, start_string=str, temperature=1))"
      ],
      "execution_count": 7,
      "outputs": [
        {
          "output_type": "stream",
          "text": [
            "Enter Starting Sequence of word: सन्सार\n"
          ],
          "name": "stdout"
        },
        {
          "output_type": "stream",
          "text": [
            "W0614 14:04:23.273614 140090806966144 deprecation.py:323] From <ipython-input-2-39dae9aebb72>:30: multinomial (from tensorflow.python.ops.random_ops) is deprecated and will be removed in a future version.\n",
            "Instructions for updating:\n",
            "Use `tf.random.categorical` instead.\n"
          ],
          "name": "stderr"
        },
        {
          "output_type": "stream",
          "text": [
            "सन्सार, ति छौ दिव्य जान !\n",
            "\n",
            "दोटा कोही यिन शिखरमा सुन्छु खेल्दा जुहारे\n",
            "बेनामी छन् ! मिरमिर कहीँ अर्थ खुल्दो छ के हुन् काजी ?\n",
            "खूब पढाउँथे ती गुरु !\n",
            "(गुणशील गुरुका पुच्छर थिए\n",
            "लौरो सीङ?) भो है कथाको\n",
            "होस् न छिटै पो रात भरभर\n",
            "यस्ता मीठा पागल!\n",
            "\n",
            "हीहीहह हीहीहह\n",
            "बोल्यो गधा!\n",
            "छेपाराले मुत्दछन् रे\n",
            "यस्ता बुज्रुगका चिहानमा\n",
            "सर !\n",
            "एक बटुवाको नागरिकताको\n",
            "इच्छा एक विचित्र\n",
            "\n",
            "साँढे \n",
            "मेरो नाम छ साँढे !\n",
            "वैज्ञानिक पटु शक्तितन्त्रले\n",
            "मन्यारे !\n",
            "लीला खेलौँ तरल उछलौँ चिल्बिले हौँ बनेली !\n",
            "हाम्फालूँ क्यै ! खुसखुस गरौँ ! सुस्तियौँ ! भन्दछन् सरितालाई दी नागबेली?\n",
            "डाँफे रङ्ग्यो? चिरबिर भर्यो? छिर्बिराएर बेली?\n",
            "\n",
            "स्रष्टा यी हुन् यस जगतका विष्णु रात भरभर\n",
            "यस्ता मीठा पागल!\n",
            "\n",
            "हीहीहह हीहीहह\n",
            "बोल्यो गधा!\n",
            "छेपाराले मुत्दछन् रे\n",
            "यस्ता बुज्रुगका चिहानमा\n",
            "सरभु सरि तिमी दिव्य श्रीपेच डाली !\n",
            "\n",
            "राजा ! तिम्रो बगल महिषी अन्नपूर्णा हिमाल\n",
            "नीला गादी उपर डटिँदा हुन्वदा!\n",
            "\n",
            "खूब झरीमा एक कुकुर\n",
            "स्याउँ स्याउँ कीरा\n",
            "सड्थ्यो लाचार! नाम सोधेँ\n",
            "रै हीरा।\n",
            "झन्डै झन्डै मै मरेथें\n",
            "\n",
            "त्रिभुवनका हौं स्वप्न सुनौला,\n",
            "महेन्द् उपवन पौधाली\n",
            "बाघहरुका जोरी–पारी हुँ,\n",
            "प्रजातन्त्रका पहराली ।\n"
          ],
          "name": "stdout"
        }
      ]
    },
    {
      "cell_type": "code",
      "metadata": {
        "id": "Pgil87gVDYMl",
        "colab_type": "code",
        "colab": {}
      },
      "source": [
        ""
      ],
      "execution_count": 0,
      "outputs": []
    }
  ]
}